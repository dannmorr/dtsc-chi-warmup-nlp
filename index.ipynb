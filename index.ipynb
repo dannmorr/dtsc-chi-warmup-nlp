{
 "cells": [
  {
   "cell_type": "markdown",
   "metadata": {},
   "source": [
    "# Text Exploration\n",
    "![](https://media.giphy.com/media/3o6ozjrPeWQifzyA6Y/giphy.gif)"
   ]
  },
  {
   "cell_type": "markdown",
   "metadata": {},
   "source": [
    "This morning we will be doing some EDA with the nltk library."
   ]
  },
  {
   "cell_type": "code",
   "execution_count": 1,
   "metadata": {},
   "outputs": [
    {
     "name": "stderr",
     "output_type": "stream",
     "text": [
      "[nltk_data] Downloading package punkt to\n",
      "[nltk_data]     /Users/danielmorr/nltk_data...\n",
      "[nltk_data]   Package punkt is already up-to-date!\n"
     ]
    }
   ],
   "source": [
    "# Base Libraries\n",
    "import pandas as pd\n",
    "import numpy as np\n",
    "import string\n",
    "\n",
    "# NLP\n",
    "import nltk\n",
    "from nltk.stem import PorterStemmer\n",
    "from nltk import FreqDist\n",
    "from nltk.corpus import stopwords\n",
    "from nltk.tokenize import word_tokenize\n",
    "from nltk.stem import WordNetLemmatizer \n",
    "from nltk.collocations import (BigramCollocationFinder, BigramAssocMeasures, \n",
    "                               TrigramCollocationFinder, TrigramAssocMeasures)\n",
    "nltk.download('punkt')\n",
    "\n",
    "# Visualization\n",
    "import matplotlib.pyplot as plt"
   ]
  },
  {
   "cell_type": "markdown",
   "metadata": {},
   "source": [
    "In the cell below, we import the policy proposal by 2020 Democratic Presidential Candidates Bernie Sanders and Elizabeth Warren."
   ]
  },
  {
   "cell_type": "code",
   "execution_count": 2,
   "metadata": {},
   "outputs": [
    {
     "data": {
      "text/html": [
       "<div>\n",
       "<style scoped>\n",
       "    .dataframe tbody tr th:only-of-type {\n",
       "        vertical-align: middle;\n",
       "    }\n",
       "\n",
       "    .dataframe tbody tr th {\n",
       "        vertical-align: top;\n",
       "    }\n",
       "\n",
       "    .dataframe thead th {\n",
       "        text-align: right;\n",
       "    }\n",
       "</style>\n",
       "<table border=\"1\" class=\"dataframe\">\n",
       "  <thead>\n",
       "    <tr style=\"text-align: right;\">\n",
       "      <th></th>\n",
       "      <th>Unnamed: 0</th>\n",
       "      <th>name</th>\n",
       "      <th>policy</th>\n",
       "      <th>candidate</th>\n",
       "    </tr>\n",
       "  </thead>\n",
       "  <tbody>\n",
       "    <tr>\n",
       "      <th>0</th>\n",
       "      <td>0</td>\n",
       "      <td>100% Clean Energy for America</td>\n",
       "      <td>As published on Medium on September 3rd, 2019:...</td>\n",
       "      <td>warren</td>\n",
       "    </tr>\n",
       "    <tr>\n",
       "      <th>1</th>\n",
       "      <td>1</td>\n",
       "      <td>A Comprehensive Agenda to Boost America’s Smal...</td>\n",
       "      <td>Small businesses are the heart of our economy....</td>\n",
       "      <td>warren</td>\n",
       "    </tr>\n",
       "    <tr>\n",
       "      <th>2</th>\n",
       "      <td>2</td>\n",
       "      <td>A Fair and Welcoming Immigration System</td>\n",
       "      <td>As published on Medium on July 11th, 2019:\\nIm...</td>\n",
       "      <td>warren</td>\n",
       "    </tr>\n",
       "    <tr>\n",
       "      <th>3</th>\n",
       "      <td>3</td>\n",
       "      <td>A Fair Workweek for America’s Part-Time Workers</td>\n",
       "      <td>Working families all across the country are ge...</td>\n",
       "      <td>warren</td>\n",
       "    </tr>\n",
       "    <tr>\n",
       "      <th>4</th>\n",
       "      <td>4</td>\n",
       "      <td>A Great Public School Education for Every Student</td>\n",
       "      <td>I attended public school growing up in Oklahom...</td>\n",
       "      <td>warren</td>\n",
       "    </tr>\n",
       "  </tbody>\n",
       "</table>\n",
       "</div>"
      ],
      "text/plain": [
       "   Unnamed: 0                                               name  \\\n",
       "0           0                      100% Clean Energy for America   \n",
       "1           1  A Comprehensive Agenda to Boost America’s Smal...   \n",
       "2           2            A Fair and Welcoming Immigration System   \n",
       "3           3    A Fair Workweek for America’s Part-Time Workers   \n",
       "4           4  A Great Public School Education for Every Student   \n",
       "\n",
       "                                              policy candidate  \n",
       "0  As published on Medium on September 3rd, 2019:...    warren  \n",
       "1  Small businesses are the heart of our economy....    warren  \n",
       "2  As published on Medium on July 11th, 2019:\\nIm...    warren  \n",
       "3  Working families all across the country are ge...    warren  \n",
       "4  I attended public school growing up in Oklahom...    warren  "
      ]
     },
     "execution_count": 2,
     "metadata": {},
     "output_type": "execute_result"
    }
   ],
   "source": [
    "df = pd.read_csv('data/2020_policies_feb_24.csv')\n",
    "df.head()"
   ]
  },
  {
   "cell_type": "markdown",
   "metadata": {
    "ExecuteTime": {
     "end_time": "2020-07-14T21:21:46.525652Z",
     "start_time": "2020-07-14T21:21:46.522008Z"
    }
   },
   "source": [
    "**We need to do some processing to make this text usable.** \n",
    "\n",
    "In the cell below, define a function called `prepocessing` that receives a single parameter called `text`.\n",
    "\n",
    "<u><b>This function should:</b></u>\n",
    "1. Lower the text so all letters are the same case\n",
    "2. Use nltk's `word_tokenize` function to convert the string into a list of tokens.\n",
    "3. Remove stop words from the data using nltk's english stopwords corpus.\n",
    "4. Use nltk's `PortStemmer` to stem the text data\n",
    "5. Remove punctuation from the data \n",
    "    - *(You can use the [string](https://www.journaldev.com/23788/python-string-module) library for this)*\n",
    "6. Convert the list of tokens into a string\n",
    "7. Remove opening and trailing spaces, and replace all double spaces with a single space.\n",
    "8. Return the results."
   ]
  },
  {
   "cell_type": "code",
   "execution_count": 27,
   "metadata": {},
   "outputs": [],
   "source": [
    "stemmer = PorterStemmer()\n",
    "stops = stopwords.words('english')\n",
    "\n",
    "def preprocessing(text):\n",
    "    data = text.lower()\n",
    "    data = word_tokenize(data)\n",
    "    data = [word for word in data if word not in stops]\n",
    "    data = [stemmer.stem(token) for token in data]\n",
    "    data = ' '.join(data)\n",
    "    data = data.replace('  ', ' ')\n",
    "    punctuation = string.punctuation + '—' + '’' + ' : '\n",
    "    return data.strip()\n",
    "\n",
    "\n",
    "  "
   ]
  },
  {
   "cell_type": "markdown",
   "metadata": {},
   "source": [
    "**For this warmup, tests are not provided.** \n",
    "\n",
    "Instead, examine the output for the following cell. \n",
    "- Was your code successful? \n",
    "- Are there words in the output that should be added to our list of stopwords?\n",
    "- Should we remove numbers?"
   ]
  },
  {
   "cell_type": "code",
   "execution_count": 28,
   "metadata": {},
   "outputs": [
    {
     "data": {
      "text/plain": [
       "\"publish medium septemb 3rd , 2019 : scienc clear . world ’ lead expert long known climat chang cau human , , accel . alreadi see effect — record flood , devast wildfir , 100-year storm happen everi year — cost live , cau hundr billion dollar damag , disproport impact vulner commun , includ commun color , children , low-incom commun . emerg , without rapid widespread chang , soon unabl prevent worst harm . climat crisi leav one untouch . also repr once-in-a-gen opportun : creat million good american job clean renew energi , infrastructur , manufactur ; unleash best american innov creativ ; rebuild union creat real progress justic worker ; directli confront racial econom inequ emb fossil fuel economi . world must limit warm 1.5° c avoid catastroph outcom , cut carbon pollut roughli half 2030 achiev net-zero emiss 2050. world ’ largest histor carbon pollut , unit state special respon lead way . ’ ’ origin support green new deal , challeng us go beyond — launch ten-year mobil 2030 achiev net-zero domest greenhou ga emiss fast possibl . ’ also ’ woven climat mitig resili throughout polici propo , ’ meet climat goal one-tim , one-size-fits- approach — ’ need big , structur chang , across rang industri sector , sustain time . idea begin . must . take bold action confront climat crisi import — urgent — anyth el next presid face . wait . add name agr need big , structur chang , across rang industri sector solv climat crisi . email zip submit presidenti candid , friend governor jay insl challeng american confront urgenc climat crisi bear upon us . jay ’ mere sound alarm make vagu promi . provid bold , thought , detail idea get us need go , rai standard address pollut invest futur american economi . presidenti campaign may , idea remain center agenda . one import idea urgent need decarbon key sector economi . today , ’ embrac goal commit adopt build governor insl ’ ten-year action plan achiev 100 % clean energi america decarbon electr , vehicl , build . ’ challeng everi candid presid . governor insl note 100 % clean energi america plan , tackl key sector economi make immedi differ . electr , transport , build , relat commerci activ respon nearli 70 percent u.s. carbon emiss . technolog today start construct cleaner grid , modern auto industri , green commun . green apollo plan invest $ 400 billion ten year clean energi r & spur innov help us develop technolog need go final mile . critic , condit r & invest result manufactur take place right america , creat good middle-class job . green manufactur plan invest $ 1.5 trillion ten year feder procur american-mad clean energi product fund transit feder , state , local govern . plan public land make unprec commit gener 10 % over electr need renew sourc offshor public land . green marshal plan commit $ 100 billion support export american-mad clean energi product help countri cut emiss . today , ’ announc ’ commit addit $ 1 trillion 10 year — fulli paid rever trump ’ tax cut wealthiest individu giant corpor — match governor insl ’ commit , subsid econom transit clean renew electr , zero emiss vehicl , green product commerci residenti build . told , feder invest $ 3 trillion leverag addit trillion privat invest creat million job . achiev : 2028 , 100 % zero-carbon pollut new commerci residenti build ; 2030 , 100 % zero emiss new light-duti passeng vehicl , medium-duti truck , buse ; 2035 , 100 % renew zero-emiss energi electr gener , interim target 100 % carbon-neutr power 2030. goal may decad away , work achiev must start . congress act immedi reduc emiss begin transit clean renew power . ’ also lot presid — ’ take deci action first term , use power clean air act author set high regulatori standard impo ambiti interim target along way . noth less nation mobil requir defeat climat chang . requir everi singl one us , ’ time roll sleev get work — time wast . help campaign keep fight . 're count grassroot donor make campaign possibl . 've save inform actblu express , donat go immedi . $ 15 $ 28 $ 50 $ 100 $ 250 partner worker ensur one left behind task us huge demand us . requir retrofit nation ’ build , reengin electr grid , adapt manufactur base increa product zero emiss vehicl . also requir readjust econom approach ensur commun color systemat exclud fossil fuel economi left behind transit clean energi . also opportun . ’ need million worker : peopl know build thing manufactur ; skill experienc contractor plan execut larg construct engin project ; train joint labor manag apprenticeship ensur continu suppli skill , avail worker . succeed fight climat chang unless peopl skill get job done room full partner . ’ ensur benefit uplift empow worker may hurt transit green economi , includ coal worker current employ fossil fuel industri . mean provid financ secur — includ earli retir benefit — job train , union protect , benefit , guarant wage benefit pariti affect worker . moreov , longer forc worker make imposs choic fossil fuel industri job superior wage benefit green economi job pay far less . job creat union job accompani pay scale benefit . long , tension transit green economi creat good , middl class , union job . warren administr , thing . look away frontlin commun endur air water pollut decad — disproport threaten accel climat chang . everyon right breath clean air , drink clean water , live healthi commun free pollut . today , commun color low-incom commun disproport impact environ hazard — impact even greater children . afford perpetu structur inequ emb exist system move toward clean energi futur . respon must priorit resourc peopl commun left behind fossil fuel economi hit worst climat chang pollut . ’ ensur invest spur econom develop everi part countri , coast . ’ invest community-develop project , peopl live work area best know need . ’ creat truli participatori democrat process , center led live front line climat chang . promi green new deal . lift frontlin commun , empow worker , tackl climat chang — time . ’ decarbon sector contribut pollut problem . ’ work . 100 % clean electr electr consumpt contribut one third carbon pollut today — good news renew fastest grow sourc electr gener . renew energi continu drop cost , mani part world ’ alreadi cheaper fossil fuel , even without subsidi . state — includ home state massachusett governor insl ’ home state washington — alreadi lead way adopt . technic challeng around transmiss storag remain , increa renew energi invest smart grid advanc distribut improv reliabl , bring cost , open new econom opportun . achiev 100 % clean electr also help us decarbon transport build . put place project labor agreement protect ensur job creat union job accompani pay scale benefit . presid , ’ work rapidli achiev 100 % clean , renew zero-emiss energi electr gener . , : set high standard util nationwid . administr requir util achiev 100 % carbon-neutr power 2030 , strong interim target along way , achiev all-clean , renew , zero-emiss energi electr gener 2035 . ’ also establish regul retir coal power within decad , ensur leav coal commun behind fund health care pension miner . creat feder renew energi commiss . ’ work congress overhaul feder energi regulatori commiss , task regul u.s. electr grid , replac instead feder renew energi commiss . revi commiss ’ mission reduc greenhou ga pollut — ’ slam shut revolv door industri ensur respon fossil fuel interest commun . use strength feder invest polici accel transit . ’ requir feder agenc achiev 100 % clean energi domest power purcha end first term . commit public land plan , ’ set goal provid 10 % over electr gener renew sourc offshor public land — nearli ten time current gener . provid feder subsidi speed clean energi adopt . ’ expand exist feder energi financ program , like depart energi ’ loan guarant program rural util servic , includ provid direct grant clean energi project . ’ extend program provid grant lieu tax credit , establish refund tax incent speed util ’ deploy exist smart grid advanc transmiss technolog , work util increa on-bil invest energi effici solut , includ subsid invest low-incom commun . ’ implement commun workforc project-labor agreement ensur job creat invest good , union job , prevail wage determin collect bargain . expand interst region coordin . maxim effici grid , ’ provid incent expedit plan site long-dist inter-st transmiss clean electr . ’ priorit area signif queue clean-energi gener capac await transmiss . ’ provid dedic support four power market administr , tenness valley author , appalachian region commiss help build publicly-own clean energi asset deploy clean power help commun transit fossil fuel . ’ expand invest smart energi storag solut cybersecur grid . 100 % clean vehicl market electr vehicl expand rapidli around world , rang increa cost electr car batteri drop precipit . averag , zero-emiss vehicl alreadi cheaper drive car run gasolin . instead accel innov sector , trump administr busi attempt loosen automobil emiss standard , even u.s. auto industri ’ protest . meanwhil , european union tighten standard , china — alreadi world ’ largest produc electr vehicl — make aggress inroad domin global market . least 10 countri set aggress electr vehicl target , elimin carbon-emit car entir . remain competit , help save planet , american automobil manufactur must keep . warren administr set goal achiev zero emiss new light-duti passeng vehicl , medium-duti truck , buse 2030. achiev , : set ambiti standard fuel emiss . first year offic , ’ set strict vehicl emiss standard becom progress tighter everi year , reach requir 100 % zero-emiss new light- medium-duti vehicl 2030. time , ’ establish clean fuel standard reduc greenhou ga emiss promot lower-carbon altern fuel . modern automot manufactur base develop need infrastructur . ’ provid feder invest grow domest zero-emiss vehicl manufactur reinforc assembl plant suppli base , includ batteri manufactur . ’ also invest electr vehicl charg infrastructur , includ ensur everi feder interst highway rest stop host fast-charg station end first term offic , ensur charg station widespread access tomorrow ga station today . boost consum demand zero emiss vehicl . ’ extend busi consum tax credit purcha zero-emiss vehicl . ’ creat “ clean car clunker ” program , base recoveri act trade-in program , extend financ incent encourag consum replac fuel-ineffici car zero-emiss vehicl , made america , union worker . green manufactur plan commit $ 1.5 trillion ten year feder procur clean , green , american-mad product , includ zero-emiss vehicl . ’ use fund requir rapid electrif feder vehicl fleet , requir new vehicl purcha zero-emiss end first term . ’ work state local govern accel electrif vehicl fleet well , includ financ transit diesel zero-emiss transit school buse . decarbon form transit . stop car buse — must address carbon pollut form transport , includ maritim , rail , aviat , expand improv public transit across countri . addit transform vehicl sector , administr invest research priorit decarbon long-dist ship transport — two challeng sector decarbon . aviat pollut particular remain fast-grow . presid , ’ commit intern goal hold climat pollut civil aviat 2020 level , reduc time . 100 % clean build build construct account one-third global energi use carbon emiss , embodi carbon includ — world continu urban , emiss grow . unit state , spend $ 400 billion year provid electr heat home busi . make signif progress decarbon build achiev clean electr gener , reduc energi wast , increa energi effici . improv air qualiti health outcom . creat good , union construct job — job outsourc sent oversea . presid , ’ commit take immedi action achiev zero-carbon pollut new commerci residenti build end second term 2028. make happen , : adopt bold standard construct . ’ creat nation zero-carbon build standard 2023 , ’ partner state local govern enforc new stronger build code . administr provid incent local govern adopt aggress standard , bring emiss . ’ link energi pollut standard feder support new construct project , build agenc ’ grantmak requir , feder hou tax credit , green mortgag product offer feder hou financ agenc . ’ direct feder agenc accel proven applianc energi effici standard , make american-manufactur applianc cleaner competit , save consum money . use feder buy power drive chang . ’ use power feder govern shift market accel adopt rule elimin fossil fuel use new renov feder build — move deadlin five year end first term , 2025 . ’ use portion $ 1.5 trillion feder procur commit green manufactur plan purcha clean energi product use feder build , construct materi heat storag technolog applianc . ’ increa access feder financ retrofit new construct , upgrad public build level govern . encourag privat capit invest . ’ creat incent privat invest energi effici electrif residenti commerci build , includ tax credit , direct spend , regulatori tool . ’ expand refund credit instal energi effici upgrad , extend exist tax credit wind solar power . ’ make easier institut capit invest portfolio-sc green construct retrofit , scale clean energi larg commerci residenti project . incentiv retrofit exist build stock . addit achiev zero emiss new build , must address exist stock commerci build residenti hou . green hou ’ perk avail wealthi — must made afford everyon . ’ establish nation initi upgrad build energi effici , offer tax credit , gener inclu financ , direct feder fund put american work reduc carbon output exist home busi , includ subsid weather low-incom household — ’ meet governor insl ’ target refurbish 4 % hou build everi year job done . work togeth make smart invest clean energi futur , grow economi , improv health , reduc structur inequ emb exist fossil fuel system . task us monument , urgent . ’ confid america tool , know-how , make happen . presid , take bold action confront climat crisi , start day one . futur planet depend , time wast .\""
      ]
     },
     "execution_count": 28,
     "metadata": {},
     "output_type": "execute_result"
    }
   ],
   "source": [
    "preprocessing(df.policy[0])"
   ]
  },
  {
   "cell_type": "markdown",
   "metadata": {},
   "source": [
    "**Let's apply our preprocessing to every policy.**"
   ]
  },
  {
   "cell_type": "code",
   "execution_count": 5,
   "metadata": {},
   "outputs": [
    {
     "name": "stdout",
     "output_type": "stream",
     "text": [
      "0    publish medium septemb 3rd , 2019 : scienc cle...\n",
      "1    small busi heart economi . even though america...\n",
      "2    publish medium juli 11th , 2019 : immigr alway...\n",
      "Name: policy, dtype: object\n"
     ]
    }
   ],
   "source": [
    "df.policy = df.policy.apply(preprocessing)\n",
    "\n",
    "print(df.policy[:3])"
   ]
  },
  {
   "cell_type": "markdown",
   "metadata": {},
   "source": [
    "Now, we can explore our text data.\n",
    "\n",
    "In the cell below define a function called `average_word_length` that receives a single parameter called `text`, and outputs the average word length.\n",
    "\n",
    "<u><b>This function should:</b></u>\n",
    "1. Split the text into a list of tokens\n",
    "2. Find the length of every word in the list\n",
    "3. Sum the word lengths and divide by the number of words in the list of tokens.\n",
    "4. Return the result."
   ]
  },
  {
   "cell_type": "code",
   "execution_count": 6,
   "metadata": {},
   "outputs": [],
   "source": [
    "# Your code here\n",
    "def average_word_length(text):\n",
    "    pass"
   ]
  },
  {
   "cell_type": "markdown",
   "metadata": {},
   "source": [
    "Now, we apply our function to every policy and add the output as column."
   ]
  },
  {
   "cell_type": "code",
   "execution_count": 7,
   "metadata": {},
   "outputs": [],
   "source": [
    "df['average_word_length'] = df.policy.apply(average_word_length)"
   ]
  },
  {
   "cell_type": "markdown",
   "metadata": {},
   "source": [
    "Sweet let's take a look at the documents with the highest average word length."
   ]
  },
  {
   "cell_type": "code",
   "execution_count": 8,
   "metadata": {},
   "outputs": [
    {
     "data": {
      "text/html": [
       "<div>\n",
       "<style scoped>\n",
       "    .dataframe tbody tr th:only-of-type {\n",
       "        vertical-align: middle;\n",
       "    }\n",
       "\n",
       "    .dataframe tbody tr th {\n",
       "        vertical-align: top;\n",
       "    }\n",
       "\n",
       "    .dataframe thead th {\n",
       "        text-align: right;\n",
       "    }\n",
       "</style>\n",
       "<table border=\"1\" class=\"dataframe\">\n",
       "  <thead>\n",
       "    <tr style=\"text-align: right;\">\n",
       "      <th></th>\n",
       "      <th>Unnamed: 0</th>\n",
       "      <th>name</th>\n",
       "      <th>policy</th>\n",
       "      <th>candidate</th>\n",
       "      <th>average_word_length</th>\n",
       "    </tr>\n",
       "  </thead>\n",
       "  <tbody>\n",
       "    <tr>\n",
       "      <th>0</th>\n",
       "      <td>0</td>\n",
       "      <td>100% Clean Energy for America</td>\n",
       "      <td>publish medium septemb 3rd , 2019 : scienc cle...</td>\n",
       "      <td>warren</td>\n",
       "      <td>None</td>\n",
       "    </tr>\n",
       "    <tr>\n",
       "      <th>1</th>\n",
       "      <td>1</td>\n",
       "      <td>A Comprehensive Agenda to Boost America’s Smal...</td>\n",
       "      <td>small busi heart economi . even though america...</td>\n",
       "      <td>warren</td>\n",
       "      <td>None</td>\n",
       "    </tr>\n",
       "    <tr>\n",
       "      <th>2</th>\n",
       "      <td>2</td>\n",
       "      <td>A Fair and Welcoming Immigration System</td>\n",
       "      <td>publish medium juli 11th , 2019 : immigr alway...</td>\n",
       "      <td>warren</td>\n",
       "      <td>None</td>\n",
       "    </tr>\n",
       "    <tr>\n",
       "      <th>3</th>\n",
       "      <td>3</td>\n",
       "      <td>A Fair Workweek for America’s Part-Time Workers</td>\n",
       "      <td>work famili across countri get crush . corpor ...</td>\n",
       "      <td>warren</td>\n",
       "      <td>None</td>\n",
       "    </tr>\n",
       "    <tr>\n",
       "      <th>4</th>\n",
       "      <td>4</td>\n",
       "      <td>A Great Public School Education for Every Student</td>\n",
       "      <td>attend public school grow oklahoma . graduat u...</td>\n",
       "      <td>warren</td>\n",
       "      <td>None</td>\n",
       "    </tr>\n",
       "  </tbody>\n",
       "</table>\n",
       "</div>"
      ],
      "text/plain": [
       "   Unnamed: 0                                               name  \\\n",
       "0           0                      100% Clean Energy for America   \n",
       "1           1  A Comprehensive Agenda to Boost America’s Smal...   \n",
       "2           2            A Fair and Welcoming Immigration System   \n",
       "3           3    A Fair Workweek for America’s Part-Time Workers   \n",
       "4           4  A Great Public School Education for Every Student   \n",
       "\n",
       "                                              policy candidate  \\\n",
       "0  publish medium septemb 3rd , 2019 : scienc cle...    warren   \n",
       "1  small busi heart economi . even though america...    warren   \n",
       "2  publish medium juli 11th , 2019 : immigr alway...    warren   \n",
       "3  work famili across countri get crush . corpor ...    warren   \n",
       "4  attend public school grow oklahoma . graduat u...    warren   \n",
       "\n",
       "  average_word_length  \n",
       "0                None  \n",
       "1                None  \n",
       "2                None  \n",
       "3                None  \n",
       "4                None  "
      ]
     },
     "execution_count": 8,
     "metadata": {},
     "output_type": "execute_result"
    }
   ],
   "source": [
    "df.sort_values(by='average_word_length', ascending=False).head()"
   ]
  },
  {
   "cell_type": "markdown",
   "metadata": {},
   "source": [
    "An average measurement can be a bit misleading. \n",
    "\n",
    "Let's also write a function that finds the word count for a given document.\n",
    "\n",
    "In the cell below, define a function called `word_count` that receives a single `text` parameter.\n",
    "\n",
    "<u><b>This function should:</b></u>\n",
    "1. Split the text data\n",
    "2. Return the length of the array."
   ]
  },
  {
   "cell_type": "code",
   "execution_count": 9,
   "metadata": {},
   "outputs": [],
   "source": [
    "# Your code here\n",
    "def word_count(text):\n",
    "    pass"
   ]
  },
  {
   "cell_type": "markdown",
   "metadata": {},
   "source": [
    "Nice. Now we apply the function to our entire dataset, and save the output as a column"
   ]
  },
  {
   "cell_type": "code",
   "execution_count": 10,
   "metadata": {},
   "outputs": [
    {
     "data": {
      "text/html": [
       "<div>\n",
       "<style scoped>\n",
       "    .dataframe tbody tr th:only-of-type {\n",
       "        vertical-align: middle;\n",
       "    }\n",
       "\n",
       "    .dataframe tbody tr th {\n",
       "        vertical-align: top;\n",
       "    }\n",
       "\n",
       "    .dataframe thead th {\n",
       "        text-align: right;\n",
       "    }\n",
       "</style>\n",
       "<table border=\"1\" class=\"dataframe\">\n",
       "  <thead>\n",
       "    <tr style=\"text-align: right;\">\n",
       "      <th></th>\n",
       "      <th>Unnamed: 0</th>\n",
       "      <th>name</th>\n",
       "      <th>policy</th>\n",
       "      <th>candidate</th>\n",
       "      <th>average_word_length</th>\n",
       "      <th>word_count</th>\n",
       "    </tr>\n",
       "  </thead>\n",
       "  <tbody>\n",
       "    <tr>\n",
       "      <th>0</th>\n",
       "      <td>0</td>\n",
       "      <td>100% Clean Energy for America</td>\n",
       "      <td>publish medium septemb 3rd , 2019 : scienc cle...</td>\n",
       "      <td>warren</td>\n",
       "      <td>None</td>\n",
       "      <td>None</td>\n",
       "    </tr>\n",
       "    <tr>\n",
       "      <th>1</th>\n",
       "      <td>1</td>\n",
       "      <td>A Comprehensive Agenda to Boost America’s Smal...</td>\n",
       "      <td>small busi heart economi . even though america...</td>\n",
       "      <td>warren</td>\n",
       "      <td>None</td>\n",
       "      <td>None</td>\n",
       "    </tr>\n",
       "    <tr>\n",
       "      <th>2</th>\n",
       "      <td>2</td>\n",
       "      <td>A Fair and Welcoming Immigration System</td>\n",
       "      <td>publish medium juli 11th , 2019 : immigr alway...</td>\n",
       "      <td>warren</td>\n",
       "      <td>None</td>\n",
       "      <td>None</td>\n",
       "    </tr>\n",
       "    <tr>\n",
       "      <th>3</th>\n",
       "      <td>3</td>\n",
       "      <td>A Fair Workweek for America’s Part-Time Workers</td>\n",
       "      <td>work famili across countri get crush . corpor ...</td>\n",
       "      <td>warren</td>\n",
       "      <td>None</td>\n",
       "      <td>None</td>\n",
       "    </tr>\n",
       "    <tr>\n",
       "      <th>4</th>\n",
       "      <td>4</td>\n",
       "      <td>A Great Public School Education for Every Student</td>\n",
       "      <td>attend public school grow oklahoma . graduat u...</td>\n",
       "      <td>warren</td>\n",
       "      <td>None</td>\n",
       "      <td>None</td>\n",
       "    </tr>\n",
       "  </tbody>\n",
       "</table>\n",
       "</div>"
      ],
      "text/plain": [
       "   Unnamed: 0                                               name  \\\n",
       "0           0                      100% Clean Energy for America   \n",
       "1           1  A Comprehensive Agenda to Boost America’s Smal...   \n",
       "2           2            A Fair and Welcoming Immigration System   \n",
       "3           3    A Fair Workweek for America’s Part-Time Workers   \n",
       "4           4  A Great Public School Education for Every Student   \n",
       "\n",
       "                                              policy candidate  \\\n",
       "0  publish medium septemb 3rd , 2019 : scienc cle...    warren   \n",
       "1  small busi heart economi . even though america...    warren   \n",
       "2  publish medium juli 11th , 2019 : immigr alway...    warren   \n",
       "3  work famili across countri get crush . corpor ...    warren   \n",
       "4  attend public school grow oklahoma . graduat u...    warren   \n",
       "\n",
       "  average_word_length word_count  \n",
       "0                None       None  \n",
       "1                None       None  \n",
       "2                None       None  \n",
       "3                None       None  \n",
       "4                None       None  "
      ]
     },
     "execution_count": 10,
     "metadata": {},
     "output_type": "execute_result"
    }
   ],
   "source": [
    "df['word_count'] = df.policy.apply(word_count)\n",
    "\n",
    "df.sort_values(by='average_word_length', ascending=False).head()"
   ]
  },
  {
   "cell_type": "markdown",
   "metadata": {},
   "source": [
    "Interesting. Let's take a look at the distribution for the `word_count` column."
   ]
  },
  {
   "cell_type": "code",
   "execution_count": 11,
   "metadata": {},
   "outputs": [
    {
     "ename": "TypeError",
     "evalue": "'<=' not supported between instances of 'NoneType' and 'NoneType'",
     "output_type": "error",
     "traceback": [
      "\u001b[0;31m---------------------------------------------------------------------------\u001b[0m",
      "\u001b[0;31mTypeError\u001b[0m                                 Traceback (most recent call last)",
      "\u001b[0;32m<ipython-input-11-b539c87bf697>\u001b[0m in \u001b[0;36m<module>\u001b[0;34m\u001b[0m\n\u001b[1;32m      2\u001b[0m \u001b[0msanders_df\u001b[0m \u001b[0;34m=\u001b[0m \u001b[0mdf\u001b[0m\u001b[0;34m[\u001b[0m\u001b[0mdf\u001b[0m\u001b[0;34m.\u001b[0m\u001b[0mcandidate\u001b[0m\u001b[0;34m==\u001b[0m\u001b[0;34m'sanders'\u001b[0m\u001b[0;34m]\u001b[0m\u001b[0;34m\u001b[0m\u001b[0;34m\u001b[0m\u001b[0m\n\u001b[1;32m      3\u001b[0m \u001b[0;34m\u001b[0m\u001b[0m\n\u001b[0;32m----> 4\u001b[0;31m \u001b[0mplt\u001b[0m\u001b[0;34m.\u001b[0m\u001b[0mhist\u001b[0m\u001b[0;34m(\u001b[0m\u001b[0mwarren_df\u001b[0m\u001b[0;34m.\u001b[0m\u001b[0mword_count\u001b[0m\u001b[0;34m,\u001b[0m \u001b[0malpha\u001b[0m\u001b[0;34m=\u001b[0m\u001b[0;36m.6\u001b[0m\u001b[0;34m,\u001b[0m \u001b[0mlabel\u001b[0m\u001b[0;34m=\u001b[0m\u001b[0;34m'Warren'\u001b[0m\u001b[0;34m)\u001b[0m\u001b[0;34m\u001b[0m\u001b[0;34m\u001b[0m\u001b[0m\n\u001b[0m\u001b[1;32m      5\u001b[0m \u001b[0mplt\u001b[0m\u001b[0;34m.\u001b[0m\u001b[0mhist\u001b[0m\u001b[0;34m(\u001b[0m\u001b[0msanders_df\u001b[0m\u001b[0;34m.\u001b[0m\u001b[0mword_count\u001b[0m\u001b[0;34m,\u001b[0m \u001b[0malpha\u001b[0m\u001b[0;34m=\u001b[0m\u001b[0;36m.6\u001b[0m\u001b[0;34m,\u001b[0m \u001b[0mlabel\u001b[0m\u001b[0;34m=\u001b[0m\u001b[0;34m'Sanders'\u001b[0m\u001b[0;34m)\u001b[0m\u001b[0;34m\u001b[0m\u001b[0;34m\u001b[0m\u001b[0m\n\u001b[1;32m      6\u001b[0m \u001b[0mplt\u001b[0m\u001b[0;34m.\u001b[0m\u001b[0mlegend\u001b[0m\u001b[0;34m(\u001b[0m\u001b[0;34m)\u001b[0m\u001b[0;34m\u001b[0m\u001b[0;34m\u001b[0m\u001b[0m\n",
      "\u001b[0;32m/opt/anaconda3/envs/learn-env/lib/python3.6/site-packages/matplotlib/pyplot.py\u001b[0m in \u001b[0;36mhist\u001b[0;34m(x, bins, range, density, weights, cumulative, bottom, histtype, align, orientation, rwidth, log, color, label, stacked, data, **kwargs)\u001b[0m\n\u001b[1;32m   2608\u001b[0m         \u001b[0malign\u001b[0m\u001b[0;34m=\u001b[0m\u001b[0malign\u001b[0m\u001b[0;34m,\u001b[0m \u001b[0morientation\u001b[0m\u001b[0;34m=\u001b[0m\u001b[0morientation\u001b[0m\u001b[0;34m,\u001b[0m \u001b[0mrwidth\u001b[0m\u001b[0;34m=\u001b[0m\u001b[0mrwidth\u001b[0m\u001b[0;34m,\u001b[0m \u001b[0mlog\u001b[0m\u001b[0;34m=\u001b[0m\u001b[0mlog\u001b[0m\u001b[0;34m,\u001b[0m\u001b[0;34m\u001b[0m\u001b[0;34m\u001b[0m\u001b[0m\n\u001b[1;32m   2609\u001b[0m         color=color, label=label, stacked=stacked, **({\"data\": data}\n\u001b[0;32m-> 2610\u001b[0;31m         if data is not None else {}), **kwargs)\n\u001b[0m\u001b[1;32m   2611\u001b[0m \u001b[0;34m\u001b[0m\u001b[0m\n\u001b[1;32m   2612\u001b[0m \u001b[0;34m\u001b[0m\u001b[0m\n",
      "\u001b[0;32m/opt/anaconda3/envs/learn-env/lib/python3.6/site-packages/matplotlib/__init__.py\u001b[0m in \u001b[0;36minner\u001b[0;34m(ax, data, *args, **kwargs)\u001b[0m\n\u001b[1;32m   1563\u001b[0m     \u001b[0;32mdef\u001b[0m \u001b[0minner\u001b[0m\u001b[0;34m(\u001b[0m\u001b[0max\u001b[0m\u001b[0;34m,\u001b[0m \u001b[0;34m*\u001b[0m\u001b[0margs\u001b[0m\u001b[0;34m,\u001b[0m \u001b[0mdata\u001b[0m\u001b[0;34m=\u001b[0m\u001b[0;32mNone\u001b[0m\u001b[0;34m,\u001b[0m \u001b[0;34m**\u001b[0m\u001b[0mkwargs\u001b[0m\u001b[0;34m)\u001b[0m\u001b[0;34m:\u001b[0m\u001b[0;34m\u001b[0m\u001b[0;34m\u001b[0m\u001b[0m\n\u001b[1;32m   1564\u001b[0m         \u001b[0;32mif\u001b[0m \u001b[0mdata\u001b[0m \u001b[0;32mis\u001b[0m \u001b[0;32mNone\u001b[0m\u001b[0;34m:\u001b[0m\u001b[0;34m\u001b[0m\u001b[0;34m\u001b[0m\u001b[0m\n\u001b[0;32m-> 1565\u001b[0;31m             \u001b[0;32mreturn\u001b[0m \u001b[0mfunc\u001b[0m\u001b[0;34m(\u001b[0m\u001b[0max\u001b[0m\u001b[0;34m,\u001b[0m \u001b[0;34m*\u001b[0m\u001b[0mmap\u001b[0m\u001b[0;34m(\u001b[0m\u001b[0msanitize_sequence\u001b[0m\u001b[0;34m,\u001b[0m \u001b[0margs\u001b[0m\u001b[0;34m)\u001b[0m\u001b[0;34m,\u001b[0m \u001b[0;34m**\u001b[0m\u001b[0mkwargs\u001b[0m\u001b[0;34m)\u001b[0m\u001b[0;34m\u001b[0m\u001b[0;34m\u001b[0m\u001b[0m\n\u001b[0m\u001b[1;32m   1566\u001b[0m \u001b[0;34m\u001b[0m\u001b[0m\n\u001b[1;32m   1567\u001b[0m         \u001b[0mbound\u001b[0m \u001b[0;34m=\u001b[0m \u001b[0mnew_sig\u001b[0m\u001b[0;34m.\u001b[0m\u001b[0mbind\u001b[0m\u001b[0;34m(\u001b[0m\u001b[0max\u001b[0m\u001b[0;34m,\u001b[0m \u001b[0;34m*\u001b[0m\u001b[0margs\u001b[0m\u001b[0;34m,\u001b[0m \u001b[0;34m**\u001b[0m\u001b[0mkwargs\u001b[0m\u001b[0;34m)\u001b[0m\u001b[0;34m\u001b[0m\u001b[0;34m\u001b[0m\u001b[0m\n",
      "\u001b[0;32m/opt/anaconda3/envs/learn-env/lib/python3.6/site-packages/matplotlib/axes/_axes.py\u001b[0m in \u001b[0;36mhist\u001b[0;34m(self, x, bins, range, density, weights, cumulative, bottom, histtype, align, orientation, rwidth, log, color, label, stacked, **kwargs)\u001b[0m\n\u001b[1;32m   6628\u001b[0m                     \u001b[0;31m# python's min/max ignore nan,\u001b[0m\u001b[0;34m\u001b[0m\u001b[0;34m\u001b[0m\u001b[0;34m\u001b[0m\u001b[0m\n\u001b[1;32m   6629\u001b[0m                     \u001b[0;31m# np.minnan returns nan for all nan input\u001b[0m\u001b[0;34m\u001b[0m\u001b[0;34m\u001b[0m\u001b[0;34m\u001b[0m\u001b[0m\n\u001b[0;32m-> 6630\u001b[0;31m                     \u001b[0mxmin\u001b[0m \u001b[0;34m=\u001b[0m \u001b[0mmin\u001b[0m\u001b[0;34m(\u001b[0m\u001b[0mxmin\u001b[0m\u001b[0;34m,\u001b[0m \u001b[0mnp\u001b[0m\u001b[0;34m.\u001b[0m\u001b[0mnanmin\u001b[0m\u001b[0;34m(\u001b[0m\u001b[0mxi\u001b[0m\u001b[0;34m)\u001b[0m\u001b[0;34m)\u001b[0m\u001b[0;34m\u001b[0m\u001b[0;34m\u001b[0m\u001b[0m\n\u001b[0m\u001b[1;32m   6631\u001b[0m                     \u001b[0mxmax\u001b[0m \u001b[0;34m=\u001b[0m \u001b[0mmax\u001b[0m\u001b[0;34m(\u001b[0m\u001b[0mxmax\u001b[0m\u001b[0;34m,\u001b[0m \u001b[0mnp\u001b[0m\u001b[0;34m.\u001b[0m\u001b[0mnanmax\u001b[0m\u001b[0;34m(\u001b[0m\u001b[0mxi\u001b[0m\u001b[0;34m)\u001b[0m\u001b[0;34m)\u001b[0m\u001b[0;34m\u001b[0m\u001b[0;34m\u001b[0m\u001b[0m\n\u001b[1;32m   6632\u001b[0m             \u001b[0;31m# make sure we have seen at least one non-nan and finite\u001b[0m\u001b[0;34m\u001b[0m\u001b[0;34m\u001b[0m\u001b[0;34m\u001b[0m\u001b[0m\n",
      "\u001b[0;32m<__array_function__ internals>\u001b[0m in \u001b[0;36mnanmin\u001b[0;34m(*args, **kwargs)\u001b[0m\n",
      "\u001b[0;32m/opt/anaconda3/envs/learn-env/lib/python3.6/site-packages/numpy/lib/nanfunctions.py\u001b[0m in \u001b[0;36mnanmin\u001b[0;34m(a, axis, out, keepdims)\u001b[0m\n\u001b[1;32m    324\u001b[0m         \u001b[0;31m# Slow, but safe for subclasses of ndarray\u001b[0m\u001b[0;34m\u001b[0m\u001b[0;34m\u001b[0m\u001b[0;34m\u001b[0m\u001b[0m\n\u001b[1;32m    325\u001b[0m         \u001b[0ma\u001b[0m\u001b[0;34m,\u001b[0m \u001b[0mmask\u001b[0m \u001b[0;34m=\u001b[0m \u001b[0m_replace_nan\u001b[0m\u001b[0;34m(\u001b[0m\u001b[0ma\u001b[0m\u001b[0;34m,\u001b[0m \u001b[0;34m+\u001b[0m\u001b[0mnp\u001b[0m\u001b[0;34m.\u001b[0m\u001b[0minf\u001b[0m\u001b[0;34m)\u001b[0m\u001b[0;34m\u001b[0m\u001b[0;34m\u001b[0m\u001b[0m\n\u001b[0;32m--> 326\u001b[0;31m         \u001b[0mres\u001b[0m \u001b[0;34m=\u001b[0m \u001b[0mnp\u001b[0m\u001b[0;34m.\u001b[0m\u001b[0mamin\u001b[0m\u001b[0;34m(\u001b[0m\u001b[0ma\u001b[0m\u001b[0;34m,\u001b[0m \u001b[0maxis\u001b[0m\u001b[0;34m=\u001b[0m\u001b[0maxis\u001b[0m\u001b[0;34m,\u001b[0m \u001b[0mout\u001b[0m\u001b[0;34m=\u001b[0m\u001b[0mout\u001b[0m\u001b[0;34m,\u001b[0m \u001b[0;34m**\u001b[0m\u001b[0mkwargs\u001b[0m\u001b[0;34m)\u001b[0m\u001b[0;34m\u001b[0m\u001b[0;34m\u001b[0m\u001b[0m\n\u001b[0m\u001b[1;32m    327\u001b[0m         \u001b[0;32mif\u001b[0m \u001b[0mmask\u001b[0m \u001b[0;32mis\u001b[0m \u001b[0;32mNone\u001b[0m\u001b[0;34m:\u001b[0m\u001b[0;34m\u001b[0m\u001b[0;34m\u001b[0m\u001b[0m\n\u001b[1;32m    328\u001b[0m             \u001b[0;32mreturn\u001b[0m \u001b[0mres\u001b[0m\u001b[0;34m\u001b[0m\u001b[0;34m\u001b[0m\u001b[0m\n",
      "\u001b[0;32m<__array_function__ internals>\u001b[0m in \u001b[0;36mamin\u001b[0;34m(*args, **kwargs)\u001b[0m\n",
      "\u001b[0;32m/opt/anaconda3/envs/learn-env/lib/python3.6/site-packages/numpy/core/fromnumeric.py\u001b[0m in \u001b[0;36mamin\u001b[0;34m(a, axis, out, keepdims, initial, where)\u001b[0m\n\u001b[1;32m   2829\u001b[0m     \"\"\"\n\u001b[1;32m   2830\u001b[0m     return _wrapreduction(a, np.minimum, 'min', axis, None, out,\n\u001b[0;32m-> 2831\u001b[0;31m                           keepdims=keepdims, initial=initial, where=where)\n\u001b[0m\u001b[1;32m   2832\u001b[0m \u001b[0;34m\u001b[0m\u001b[0m\n\u001b[1;32m   2833\u001b[0m \u001b[0;34m\u001b[0m\u001b[0m\n",
      "\u001b[0;32m/opt/anaconda3/envs/learn-env/lib/python3.6/site-packages/numpy/core/fromnumeric.py\u001b[0m in \u001b[0;36m_wrapreduction\u001b[0;34m(obj, ufunc, method, axis, dtype, out, **kwargs)\u001b[0m\n\u001b[1;32m     85\u001b[0m                 \u001b[0;32mreturn\u001b[0m \u001b[0mreduction\u001b[0m\u001b[0;34m(\u001b[0m\u001b[0maxis\u001b[0m\u001b[0;34m=\u001b[0m\u001b[0maxis\u001b[0m\u001b[0;34m,\u001b[0m \u001b[0mout\u001b[0m\u001b[0;34m=\u001b[0m\u001b[0mout\u001b[0m\u001b[0;34m,\u001b[0m \u001b[0;34m**\u001b[0m\u001b[0mpasskwargs\u001b[0m\u001b[0;34m)\u001b[0m\u001b[0;34m\u001b[0m\u001b[0;34m\u001b[0m\u001b[0m\n\u001b[1;32m     86\u001b[0m \u001b[0;34m\u001b[0m\u001b[0m\n\u001b[0;32m---> 87\u001b[0;31m     \u001b[0;32mreturn\u001b[0m \u001b[0mufunc\u001b[0m\u001b[0;34m.\u001b[0m\u001b[0mreduce\u001b[0m\u001b[0;34m(\u001b[0m\u001b[0mobj\u001b[0m\u001b[0;34m,\u001b[0m \u001b[0maxis\u001b[0m\u001b[0;34m,\u001b[0m \u001b[0mdtype\u001b[0m\u001b[0;34m,\u001b[0m \u001b[0mout\u001b[0m\u001b[0;34m,\u001b[0m \u001b[0;34m**\u001b[0m\u001b[0mpasskwargs\u001b[0m\u001b[0;34m)\u001b[0m\u001b[0;34m\u001b[0m\u001b[0;34m\u001b[0m\u001b[0m\n\u001b[0m\u001b[1;32m     88\u001b[0m \u001b[0;34m\u001b[0m\u001b[0m\n\u001b[1;32m     89\u001b[0m \u001b[0;34m\u001b[0m\u001b[0m\n",
      "\u001b[0;31mTypeError\u001b[0m: '<=' not supported between instances of 'NoneType' and 'NoneType'"
     ]
    },
    {
     "data": {
      "image/png": "[encoded data removed]",
      "text/plain": [
       "<Figure size 432x288 with 1 Axes>"
      ]
     },
     "metadata": {
      "needs_background": "light"
     },
     "output_type": "display_data"
    }
   ],
   "source": [
    "warren_df = df[df.candidate=='warren']\n",
    "sanders_df = df[df.candidate=='sanders']\n",
    "\n",
    "plt.hist(warren_df.word_count, alpha=.6, label='Warren')\n",
    "plt.hist(sanders_df.word_count, alpha=.6, label='Sanders')\n",
    "plt.legend()\n",
    "plt.show()"
   ]
  },
  {
   "cell_type": "markdown",
   "metadata": {},
   "source": [
    "It looks like the average length of a policy is about 1,000 words.\n",
    "\n",
    "Let's print the mean and median for the `word_count` column."
   ]
  },
  {
   "cell_type": "code",
   "execution_count": null,
   "metadata": {},
   "outputs": [],
   "source": [
    "print('Mean Word Count: ',df.word_count.mean())\n",
    "print('Median Word Count: ',df.word_count.median())"
   ]
  },
  {
   "cell_type": "markdown",
   "metadata": {},
   "source": [
    "*There are some outliers in this data in a full data science project would need to be explored.*"
   ]
  },
  {
   "cell_type": "markdown",
   "metadata": {},
   "source": [
    "**Ok, final thing!**\n",
    "\n",
    "Let's find out what the most frequent words are for each candidate.\n",
    "\n",
    "First, we use list comprehension to create a list of token-lists."
   ]
  },
  {
   "cell_type": "code",
   "execution_count": null,
   "metadata": {},
   "outputs": [],
   "source": [
    "token_warren= [word_tokenize(policy) for policy in warren_df.policy] "
   ]
  },
  {
   "cell_type": "markdown",
   "metadata": {},
   "source": [
    "Next, we want to create a bag of words. AKA a single list containing every token."
   ]
  },
  {
   "cell_type": "code",
   "execution_count": null,
   "metadata": {
    "ExecuteTime": {
     "end_time": "2020-07-15T02:02:40.284467Z",
     "start_time": "2020-07-15T02:02:40.262652Z"
    }
   },
   "outputs": [],
   "source": [
    "warren_bow = []\n",
    "for doc in token_warren:\n",
    "    warren_bow.extend([word.lower() for word in doc])"
   ]
  },
  {
   "cell_type": "markdown",
   "metadata": {},
   "source": [
    "Now, we use the `FreqDist` object to find the 10 most frequent words."
   ]
  },
  {
   "cell_type": "code",
   "execution_count": null,
   "metadata": {},
   "outputs": [],
   "source": [
    "fd_warren = FreqDist(warren_bow)\n",
    "print(fd_warren.most_common(10))"
   ]
  },
  {
   "cell_type": "markdown",
   "metadata": {},
   "source": [
    "Are there any words here that should be added to our list of stopwords?"
   ]
  },
  {
   "cell_type": "markdown",
   "metadata": {},
   "source": [
    "*In the cell below* define a function called `word_frequency` that receives a series of documents, and outputs a fitted FreqDist object.\n",
    "\n",
    "<u><b>This function should be</b></u> a generalized version of the code we just wrote, only instead of printing out the most frequent words, the function should return the `fd` object."
   ]
  },
  {
   "cell_type": "code",
   "execution_count": null,
   "metadata": {},
   "outputs": [],
   "source": [
    "# Your code here\n",
    "def word_frequency(documents):\n",
    "    pass"
   ]
  },
  {
   "cell_type": "markdown",
   "metadata": {},
   "source": [
    "Now, we can feed all of sanders policies into our `word_frequency` functions and receive a fitted `FreqDist` object"
   ]
  },
  {
   "cell_type": "code",
   "execution_count": null,
   "metadata": {},
   "outputs": [],
   "source": [
    "fd_sanders = word_frequency(sanders_df.policy)\n",
    "fd_sanders.most_common(10)"
   ]
  },
  {
   "cell_type": "markdown",
   "metadata": {},
   "source": [
    "`FreqDist` objects come with a handy `.plot` method :)"
   ]
  },
  {
   "cell_type": "code",
   "execution_count": null,
   "metadata": {
    "ExecuteTime": {
     "end_time": "2020-07-15T01:53:50.258743Z",
     "start_time": "2020-07-15T01:53:50.102070Z"
    }
   },
   "outputs": [],
   "source": [
    "fd_sanders.plot(10);"
   ]
  },
  {
   "cell_type": "code",
   "execution_count": null,
   "metadata": {},
   "outputs": [],
   "source": []
  }
 ],
 "metadata": {
  "hide_input": false,
  "kernelspec": {
   "display_name": "Python 3",
   "language": "python",
   "name": "python3"
  },
  "language_info": {
   "codemirror_mode": {
    "name": "ipython",
    "version": 3
   },
   "file_extension": ".py",
   "mimetype": "text/x-python",
   "name": "python",
   "nbconvert_exporter": "python",
   "pygments_lexer": "ipython3",
   "version": "3.6.9"
  },
  "toc": {
   "base_numbering": 1,
   "nav_menu": {},
   "number_sections": true,
   "sideBar": true,
   "skip_h1_title": false,
   "title_cell": "Table of Contents",
   "title_sidebar": "Contents",
   "toc_cell": false,
   "toc_position": {},
   "toc_section_display": true,
   "toc_window_display": false
  },
  "varInspector": {
   "cols": {
    "lenName": 16,
    "lenType": 16,
    "lenVar": 40
   },
   "kernels_config": {
    "python": {
     "delete_cmd_postfix": "",
     "delete_cmd_prefix": "del ",
     "library": "var_list.py",
     "varRefreshCmd": "print(var_dic_list())"
    },
    "r": {
     "delete_cmd_postfix": ") ",
     "delete_cmd_prefix": "rm(",
     "library": "var_list.r",
     "varRefreshCmd": "cat(var_dic_list()) "
    }
   },
   "types_to_exclude": [
    "module",
    "function",
    "builtin_function_or_method",
    "instance",
    "_Feature"
   ],
   "window_display": false
  }
 },
 "nbformat": 4,
 "nbformat_minor": 4
}
